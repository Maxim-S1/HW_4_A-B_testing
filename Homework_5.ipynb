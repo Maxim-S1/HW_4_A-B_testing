{
 "cells": [
  {
   "cell_type": "markdown",
   "id": "46c9cf33",
   "metadata": {},
   "source": [
    "## Задание 1"
   ]
  },
  {
   "cell_type": "markdown",
   "id": "88c3a672",
   "metadata": {},
   "source": [
    "#### Вы провели эксперимент c упрощением формы заказа в магазине Утконос и получили результаты по метрике конверсий в покупку. Выберите метод оценки и оцените есть ли стат.значимые различия между конверсиями в двух группах при alpha = 5%. Дайте краткие рекомендации команде. Результаты:"
   ]
  },
  {
   "cell_type": "markdown",
   "id": "e669d1b9",
   "metadata": {},
   "source": [
    " 1. Число юзеров в группах , которые заходили на сайт в период эксперимента: n1 = 15550 и n2 = 15550. \n",
    " 2. Число юзеров в группах , которые совершили хотя бы одну покупку за период эксперимента: n1 = 164 и n2 = 228. \n",
    " 3. Конверсии : conv1 = 1.05% conv2 = 1.47% ."
   ]
  },
  {
   "cell_type": "markdown",
   "id": "1ae13418",
   "metadata": {},
   "source": [
    "<img src = task.png>"
   ]
  },
  {
   "cell_type": "markdown",
   "id": "0ffc1a11",
   "metadata": {},
   "source": [
    "### С вероятностью 95% проведенный эксперимент повлиял на увеличение покупок"
   ]
  },
  {
   "cell_type": "markdown",
   "id": "74bd575e",
   "metadata": {},
   "source": [
    "## Задание 2"
   ]
  },
  {
   "cell_type": "markdown",
   "id": "5b1e8f51",
   "metadata": {},
   "source": [
    "### Сравниваем метрику конверсия в покупку. Размер выборки - 10000 элементов в каждой группе . Какой статистический критерий тут лучше всего подойдёт и почему ?"
   ]
  },
  {
   "cell_type": "markdown",
   "id": "96d25742",
   "metadata": {},
   "source": [
    "Поскольку размер выборки  10000 и сравнивается конверсия нужно использовать Z-критерий."
   ]
  }
 ],
 "metadata": {
  "kernelspec": {
   "display_name": "Python 3 (ipykernel)",
   "language": "python",
   "name": "python3"
  },
  "language_info": {
   "codemirror_mode": {
    "name": "ipython",
    "version": 3
   },
   "file_extension": ".py",
   "mimetype": "text/x-python",
   "name": "python",
   "nbconvert_exporter": "python",
   "pygments_lexer": "ipython3",
   "version": "3.9.13"
  }
 },
 "nbformat": 4,
 "nbformat_minor": 5
}
